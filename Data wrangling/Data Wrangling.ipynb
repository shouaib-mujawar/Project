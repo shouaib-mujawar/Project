{
 "cells": [
  {
   "cell_type": "code",
   "execution_count": 1,
   "metadata": {},
   "outputs": [],
   "source": [
    "import numpy as np"
   ]
  },
  {
   "cell_type": "code",
   "execution_count": 2,
   "metadata": {},
   "outputs": [],
   "source": [
    "1. Create a null vector of size 10 but the fifth value which is 1."
   ]
  },
  {
   "cell_type": "code",
   "execution_count": 2,
   "metadata": {},
   "outputs": [
    {
     "name": "stdout",
     "output_type": "stream",
     "text": [
      "[0. 0. 0. 0. 0. 0. 0. 0. 0. 0.]\n",
      "After Making the changes\n",
      "[0. 0. 0. 0. 1. 0. 0. 0. 0. 0.]\n"
     ]
    }
   ],
   "source": [
    "vector=np.zeros(10)\n",
    "print(vector)\n",
    "vector[4]=1\n",
    "print(\"After Making the changes\")\n",
    "print(vector)"
   ]
  },
  {
   "cell_type": "code",
   "execution_count": null,
   "metadata": {},
   "outputs": [],
   "source": [
    "2. Create a vector with values ranging from 10 to 49."
   ]
  },
  {
   "cell_type": "code",
   "execution_count": 3,
   "metadata": {},
   "outputs": [
    {
     "name": "stdout",
     "output_type": "stream",
     "text": [
      "[10 11 12 13 14 15 16 17 18 19 20 21 22 23 24 25 26 27 28 29 30 31 32 33\n",
      " 34 35 36 37 38 39 40 41 42 43 44 45 46 47 48 49]\n"
     ]
    }
   ],
   "source": [
    "vec=np.arange(10,50)\n",
    "print(vec)"
   ]
  },
  {
   "cell_type": "code",
   "execution_count": null,
   "metadata": {},
   "outputs": [],
   "source": [
    "3. Create a 3x3 matrix with values ranging from 0 to 8"
   ]
  },
  {
   "cell_type": "code",
   "execution_count": 4,
   "metadata": {},
   "outputs": [
    {
     "name": "stdout",
     "output_type": "stream",
     "text": [
      "[[2 4 8]\n",
      " [6 3 0]\n",
      " [1 0 2]]\n"
     ]
    }
   ],
   "source": [
    "matrix=np.random.randint(0,9,(3,3))\n",
    "print(matrix)"
   ]
  },
  {
   "cell_type": "code",
   "execution_count": null,
   "metadata": {},
   "outputs": [],
   "source": [
    "4. Find indices of non-zero elements from [1,2,0,0,4,0]"
   ]
  },
  {
   "cell_type": "code",
   "execution_count": 5,
   "metadata": {},
   "outputs": [
    {
     "name": "stdout",
     "output_type": "stream",
     "text": [
      "[1 2 4]\n"
     ]
    }
   ],
   "source": [
    "elements=np.array([1,2,0,0,4,0])\n",
    "non=elements>0\n",
    "print(elements[non])"
   ]
  },
  {
   "cell_type": "code",
   "execution_count": null,
   "metadata": {},
   "outputs": [],
   "source": [
    "5. Create a 10x10 array with random values and find the minimum and maximum values."
   ]
  },
  {
   "cell_type": "code",
   "execution_count": 6,
   "metadata": {},
   "outputs": [
    {
     "name": "stdout",
     "output_type": "stream",
     "text": [
      "[[53 91 64 92 21 88 92 16 52 99]\n",
      " [45 90 37 49 96 60 95 25 71 14]\n",
      " [18 69  7  0 53  2  4  6 94 74]\n",
      " [72 41 85 77 64 40 37 97 55 59]\n",
      " [ 6 54 97 13 16 10 16 56 26 80]\n",
      " [28 28 34 26 56 40 31 76 41 13]\n",
      " [61 35 37 24  8 55  1 22 67 14]\n",
      " [65  5 28 92 54 10 69 88 87 45]\n",
      " [48 33 67 43 50 76 96  5  1 69]\n",
      " [43 96 95 14 62 47 55 91  1 96]]\n",
      "maximum: 99\n",
      "minimum: 0\n"
     ]
    }
   ],
   "source": [
    "array=np.random.randint(0,100,(10,10))\n",
    "print(array)\n",
    "m=np.max(array)\n",
    "print(\"maximum:\",m)\n",
    "n=np.min(array)\n",
    "print(\"minimum:\",n)"
   ]
  },
  {
   "cell_type": "code",
   "execution_count": null,
   "metadata": {},
   "outputs": [],
   "source": [
    "6. Create a random vector of size 30 and find the mean value."
   ]
  },
  {
   "cell_type": "code",
   "execution_count": 7,
   "metadata": {},
   "outputs": [
    {
     "name": "stdout",
     "output_type": "stream",
     "text": [
      "[0.93100896 0.53704918 0.17908694 0.98493199 0.50875574 0.38452833\n",
      " 0.69169332 0.82608784 0.52975273 0.6413538  0.81528971 0.90057177\n",
      " 0.84759135 0.65376935 0.20847213 0.09746461 0.93269259 0.5950502\n",
      " 0.88043099 0.85807728 0.57697222 0.42550428 0.87276535 0.75532979\n",
      " 0.0933463  0.44093519 0.74122686 0.85319552 0.26678791 0.67502824]\n"
     ]
    },
    {
     "data": {
      "text/plain": [
       "0.6234916812841516"
      ]
     },
     "execution_count": 7,
     "metadata": {},
     "output_type": "execute_result"
    }
   ],
   "source": [
    "vector=np.random.rand(30)\n",
    "print(vector)\n",
    "np.mean(vector)"
   ]
  }
 ],
 "metadata": {
  "kernelspec": {
   "display_name": "Python 3",
   "language": "python",
   "name": "python3"
  },
  "language_info": {
   "codemirror_mode": {
    "name": "ipython",
    "version": 3
   },
   "file_extension": ".py",
   "mimetype": "text/x-python",
   "name": "python",
   "nbconvert_exporter": "python",
   "pygments_lexer": "ipython3",
   "version": "3.8.5"
  }
 },
 "nbformat": 4,
 "nbformat_minor": 4
}
