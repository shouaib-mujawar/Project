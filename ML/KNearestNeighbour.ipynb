{
 "cells": [
  {
   "cell_type": "code",
   "execution_count": 1,
   "metadata": {},
   "outputs": [],
   "source": [
    "import pandas as pd"
   ]
  },
  {
   "cell_type": "code",
   "execution_count": 2,
   "metadata": {},
   "outputs": [],
   "source": [
    "dataset=pd.read_csv(\"https://raw.githubusercontent.com/edyoda/data-science-complete-tutorial/master/Data/house_rental_data.csv.txt\")\n"
   ]
  },
  {
   "cell_type": "code",
   "execution_count": 15,
   "metadata": {},
   "outputs": [
    {
     "data": {
      "text/plain": [
       "False"
      ]
     },
     "execution_count": 15,
     "metadata": {},
     "output_type": "execute_result"
    }
   ],
   "source": [
    "dataset.isnull().values.any()"
   ]
  },
  {
   "cell_type": "code",
   "execution_count": 3,
   "metadata": {},
   "outputs": [],
   "source": [
    "X=dataset.iloc[:,1:7].values\n",
    "Y=dataset.iloc[:,7].values"
   ]
  },
  {
   "cell_type": "code",
   "execution_count": 5,
   "metadata": {},
   "outputs": [],
   "source": [
    "from sklearn.model_selection import train_test_split\n",
    "X_train,X_test,Y_train,Y_test=train_test_split(X,Y,test_size=0.30,random_state=0)"
   ]
  },
  {
   "cell_type": "code",
   "execution_count": 21,
   "metadata": {},
   "outputs": [
    {
     "name": "stdout",
     "output_type": "stream",
     "text": [
      "Score Train Set 0.830799022521967\n",
      "Score Test Set 0.720486205502586\n",
      "[103333.33333333  20033.33333333  55000.          73000.\n",
      "  32000.         127818.66666667 135999.66666667  70666.66666667\n",
      "  89600.          50666.66666667  41333.33333333  32000.\n",
      "  24896.          51600.          41333.33333333 106666.33333333\n",
      "  32333.33333333  41933.33333333  70333.33333333  48266.33333333\n",
      "  25333.33333333 176666.66666667  78000.         103333.\n",
      "  62666.66666667  73000.          72333.33333333  56999.66666667\n",
      "  97999.66666667  48666.66666667  93333.          37833.33333333\n",
      "  79333.33333333 129629.33333333  48266.33333333  41342.66666667\n",
      "  58000.          92333.33333333  47666.66666667  39900.\n",
      "  48266.33333333  43666.66666667  78000.          59333.33333333\n",
      " 100000.          38666.66666667  58333.33333333  37333.33333333\n",
      " 195000.          58333.33333333 183333.33333333  63333.33333333\n",
      "  32000.          38333.33333333  62200.          92333.33333333\n",
      "  62333.33333333  51666.66666667 103333.33333333  71666.66666667\n",
      "  88333.33333333 100000.          36667.33333333  34333.33333333\n",
      "  92666.66666667  90333.33333333  41933.33333333  46266.66666667\n",
      "  35009.33333333  37833.33333333  36667.33333333  85333.\n",
      "  70333.33333333  58333.33333333 106666.33333333  39666.66666667\n",
      "  37333.33333333  53833.33333333  81333.33333333  38666.66666667\n",
      "  60000.          45000.          83333.33333333  36677.33333333\n",
      "  59333.33333333  47666.66666667  81000.          62333.33333333\n",
      "  39333.          31666.66666667  66666.66666667  73000.\n",
      "  81333.33333333  38666.66666667  46333.33333333  41333.33333333\n",
      "  48833.33333333 135999.66666667  57962.66666667  42666.66666667\n",
      "  36677.33333333  51000.          32999.66666667 111152.\n",
      "  58266.66666667  44500.          32333.33333333  36666.66666667\n",
      "  35009.33333333  78333.33333333  53333.33333333 102666.33333333\n",
      "  77666.66666667  37666.66666667  47666.66666667  62666.66666667\n",
      "  71666.66666667  38000.          70000.          62200.\n",
      "  39666.66666667  92333.33333333  37333.33333333  48266.33333333\n",
      "  37000.          66666.66666667 130000.          35009.33333333\n",
      " 129999.66666667  37666.66666667  32333.33333333  73000.\n",
      " 118333.33333333  46333.33333333  61666.66666667  47666.66666667\n",
      "  57333.33333333  48266.33333333  38333.33333333  98666.33333333\n",
      "  59333.33333333  45000.          37000.          48266.33333333\n",
      "  37833.33333333  81600.          92666.66666667 111152.\n",
      "  38666.66666667  98666.33333333  24896.          23933.33333333\n",
      "  98666.33333333  41666.66666667  71333.33333333  49333.\n",
      "  43999.66666667 128333.33333333  65000.          71666.66666667\n",
      "  41666.66666667  28677.33333333  24896.          38000.\n",
      "  33266.33333333  59000.         102666.33333333  55000.\n",
      "  63000.          57333.33333333  32000.          63373.33333333\n",
      "  52333.33333333  81000.          57833.33333333  35009.33333333\n",
      "  38666.66666667  85333.          23933.33333333 113333.33333333\n",
      " 111152.          89600.          48666.66666667  55333.33333333\n",
      "  73000.          56000.          37666.33333333  48333.33333333\n",
      "  64999.66666667  61666.66666667  77333.33333333  35666.66666667\n",
      "  33266.33333333  85333.        ]\n"
     ]
    }
   ],
   "source": [
    "from sklearn.neighbors import KNeighborsRegressor\n",
    "NN_model = KNeighborsRegressor(n_neighbors = 3)\n",
    "NN_model.fit(X_train, Y_train)\n",
    "\n",
    "print(\"Score Train Set\",NN_model.score(X_train, Y_train))\n",
    "print(\"Score Test Set\",NN_model.score(X_test, Y_test))\n",
    "\n",
    "y_predict = NN_model.predict(X_test)\n",
    "print(y_predict)"
   ]
  },
  {
   "cell_type": "code",
   "execution_count": 23,
   "metadata": {},
   "outputs": [
    {
     "name": "stdout",
     "output_type": "stream",
     "text": [
      "k = 1 rmse= 15696.978541423088\n",
      "k = 2 rmse= 16302.068088081758\n",
      "k = 3 rmse= 17856.7884759462\n",
      "k = 4 rmse= 18847.124804239982\n",
      "k = 5 rmse= 19009.776961174695\n",
      "k = 6 rmse= 19784.352683532157\n",
      "k = 7 rmse= 19830.302430878488\n",
      "k = 8 rmse= 19719.261187694094\n",
      "k = 9 rmse= 19664.40857230161\n",
      "k = 10 rmse= 19335.783685640636\n",
      "k = 11 rmse= 19040.110555671203\n",
      "k = 12 rmse= 18880.920089412695\n",
      "k = 13 rmse= 18895.890020932806\n",
      "k = 14 rmse= 18790.65635219263\n",
      "k = 15 rmse= 18835.360673800886\n",
      "k = 16 rmse= 18768.4019220968\n",
      "k = 17 rmse= 18758.249044040556\n",
      "k = 18 rmse= 18863.32538118921\n",
      "k = 19 rmse= 18786.892561541015\n"
     ]
    },
    {
     "data": {
      "text/plain": [
       "<AxesSubplot:>"
      ]
     },
     "execution_count": 23,
     "metadata": {},
     "output_type": "execute_result"
    },
    {
     "data": {
      "image/png": "[encoded data removed]",
      "text/plain": [
       "<Figure size 432x288 with 1 Axes>"
      ]
     },
     "metadata": {
      "needs_background": "light"
     },
     "output_type": "display_data"
    }
   ],
   "source": [
    "from sklearn.metrics import mean_squared_error\n",
    "from math import sqrt\n",
    "\n",
    "rmse = []\n",
    "for k in range(1,20):\n",
    "    NN_model = KNeighborsRegressor(n_neighbors = k)\n",
    "    NN_model.fit(X_train, Y_train)\n",
    "    y_predict = NN_model.predict(X_test)\n",
    "    \n",
    "    error = sqrt(mean_squared_error(Y_test, y_predict))\n",
    "    rmse.append(error)\n",
    "    print(\"k =\", k, \"rmse=\",error)\n",
    "    \n",
    "graph = pd.DataFrame(rmse)    \n",
    "graph.plot()"
   ]
  },
  {
   "cell_type": "code",
   "execution_count": null,
   "metadata": {},
   "outputs": [],
   "source": []
  }
 ],
 "metadata": {
  "kernelspec": {
   "display_name": "Python 3",
   "language": "python",
   "name": "python3"
  },
  "language_info": {
   "codemirror_mode": {
    "name": "ipython",
    "version": 3
   },
   "file_extension": ".py",
   "mimetype": "text/x-python",
   "name": "python",
   "nbconvert_exporter": "python",
   "pygments_lexer": "ipython3",
   "version": "3.8.5"
  }
 },
 "nbformat": 4,
 "nbformat_minor": 4
}
